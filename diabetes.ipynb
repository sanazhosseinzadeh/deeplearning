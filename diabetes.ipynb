{
  "nbformat": 4,
  "nbformat_minor": 0,
  "metadata": {
    "colab": {
      "provenance": []
    },
    "kernelspec": {
      "name": "python3",
      "display_name": "Python 3"
    },
    "language_info": {
      "name": "python"
    }
  },
  "cells": [
    {
      "cell_type": "code",
      "source": [
        "df = pd.read_csv('diabetes.csv')"
      ],
      "metadata": {
        "id": "C6X_d5mZIbJJ"
      },
      "execution_count": null,
      "outputs": []
    },
    {
      "cell_type": "code",
      "execution_count": null,
      "metadata": {
        "id": "GBcC0gJiDbe1"
      },
      "outputs": [],
      "source": [
        "import numpy as np\n",
        "import pandas as pd\n",
        "import seaborn as sns\n",
        "import matplotlib.pyplot as plt\n",
        "from keras.models import Sequential\n",
        "from keras.layers import Dense"
      ]
    },
    {
      "cell_type": "code",
      "source": [
        "df.head()"
      ],
      "metadata": {
        "colab": {
          "base_uri": "https://localhost:8080/",
          "height": 206
        },
        "id": "ru6TkFH4IeFL",
        "outputId": "d2f90718-16c3-4bda-9683-c80d7079681d"
      },
      "execution_count": null,
      "outputs": [
        {
          "output_type": "execute_result",
          "data": {
            "text/plain": [
              "   Pregnancies  Glucose  BloodPressure  SkinThickness  Insulin   BMI  \\\n",
              "0            6      148             72             35        0  33.6   \n",
              "1            1       85             66             29        0  26.6   \n",
              "2            8      183             64              0        0  23.3   \n",
              "3            1       89             66             23       94  28.1   \n",
              "4            0      137             40             35      168  43.1   \n",
              "\n",
              "   DiabetesPedigreeFunction  Age  Outcome  \n",
              "0                     0.627   50        1  \n",
              "1                     0.351   31        0  \n",
              "2                     0.672   32        1  \n",
              "3                     0.167   21        0  \n",
              "4                     2.288   33        1  "
            ],
            "text/html": [
              "\n",
              "  <div id=\"df-f7497619-b330-4c0b-a8d1-e86f9c50ef9a\">\n",
              "    <div class=\"colab-df-container\">\n",
              "      <div>\n",
              "<style scoped>\n",
              "    .dataframe tbody tr th:only-of-type {\n",
              "        vertical-align: middle;\n",
              "    }\n",
              "\n",
              "    .dataframe tbody tr th {\n",
              "        vertical-align: top;\n",
              "    }\n",
              "\n",
              "    .dataframe thead th {\n",
              "        text-align: right;\n",
              "    }\n",
              "</style>\n",
              "<table border=\"1\" class=\"dataframe\">\n",
              "  <thead>\n",
              "    <tr style=\"text-align: right;\">\n",
              "      <th></th>\n",
              "      <th>Pregnancies</th>\n",
              "      <th>Glucose</th>\n",
              "      <th>BloodPressure</th>\n",
              "      <th>SkinThickness</th>\n",
              "      <th>Insulin</th>\n",
              "      <th>BMI</th>\n",
              "      <th>DiabetesPedigreeFunction</th>\n",
              "      <th>Age</th>\n",
              "      <th>Outcome</th>\n",
              "    </tr>\n",
              "  </thead>\n",
              "  <tbody>\n",
              "    <tr>\n",
              "      <th>0</th>\n",
              "      <td>6</td>\n",
              "      <td>148</td>\n",
              "      <td>72</td>\n",
              "      <td>35</td>\n",
              "      <td>0</td>\n",
              "      <td>33.6</td>\n",
              "      <td>0.627</td>\n",
              "      <td>50</td>\n",
              "      <td>1</td>\n",
              "    </tr>\n",
              "    <tr>\n",
              "      <th>1</th>\n",
              "      <td>1</td>\n",
              "      <td>85</td>\n",
              "      <td>66</td>\n",
              "      <td>29</td>\n",
              "      <td>0</td>\n",
              "      <td>26.6</td>\n",
              "      <td>0.351</td>\n",
              "      <td>31</td>\n",
              "      <td>0</td>\n",
              "    </tr>\n",
              "    <tr>\n",
              "      <th>2</th>\n",
              "      <td>8</td>\n",
              "      <td>183</td>\n",
              "      <td>64</td>\n",
              "      <td>0</td>\n",
              "      <td>0</td>\n",
              "      <td>23.3</td>\n",
              "      <td>0.672</td>\n",
              "      <td>32</td>\n",
              "      <td>1</td>\n",
              "    </tr>\n",
              "    <tr>\n",
              "      <th>3</th>\n",
              "      <td>1</td>\n",
              "      <td>89</td>\n",
              "      <td>66</td>\n",
              "      <td>23</td>\n",
              "      <td>94</td>\n",
              "      <td>28.1</td>\n",
              "      <td>0.167</td>\n",
              "      <td>21</td>\n",
              "      <td>0</td>\n",
              "    </tr>\n",
              "    <tr>\n",
              "      <th>4</th>\n",
              "      <td>0</td>\n",
              "      <td>137</td>\n",
              "      <td>40</td>\n",
              "      <td>35</td>\n",
              "      <td>168</td>\n",
              "      <td>43.1</td>\n",
              "      <td>2.288</td>\n",
              "      <td>33</td>\n",
              "      <td>1</td>\n",
              "    </tr>\n",
              "  </tbody>\n",
              "</table>\n",
              "</div>\n",
              "      <button class=\"colab-df-convert\" onclick=\"convertToInteractive('df-f7497619-b330-4c0b-a8d1-e86f9c50ef9a')\"\n",
              "              title=\"Convert this dataframe to an interactive table.\"\n",
              "              style=\"display:none;\">\n",
              "        \n",
              "  <svg xmlns=\"http://www.w3.org/2000/svg\" height=\"24px\"viewBox=\"0 0 24 24\"\n",
              "       width=\"24px\">\n",
              "    <path d=\"M0 0h24v24H0V0z\" fill=\"none\"/>\n",
              "    <path d=\"M18.56 5.44l.94 2.06.94-2.06 2.06-.94-2.06-.94-.94-2.06-.94 2.06-2.06.94zm-11 1L8.5 8.5l.94-2.06 2.06-.94-2.06-.94L8.5 2.5l-.94 2.06-2.06.94zm10 10l.94 2.06.94-2.06 2.06-.94-2.06-.94-.94-2.06-.94 2.06-2.06.94z\"/><path d=\"M17.41 7.96l-1.37-1.37c-.4-.4-.92-.59-1.43-.59-.52 0-1.04.2-1.43.59L10.3 9.45l-7.72 7.72c-.78.78-.78 2.05 0 2.83L4 21.41c.39.39.9.59 1.41.59.51 0 1.02-.2 1.41-.59l7.78-7.78 2.81-2.81c.8-.78.8-2.07 0-2.86zM5.41 20L4 18.59l7.72-7.72 1.47 1.35L5.41 20z\"/>\n",
              "  </svg>\n",
              "      </button>\n",
              "      \n",
              "  <style>\n",
              "    .colab-df-container {\n",
              "      display:flex;\n",
              "      flex-wrap:wrap;\n",
              "      gap: 12px;\n",
              "    }\n",
              "\n",
              "    .colab-df-convert {\n",
              "      background-color: #E8F0FE;\n",
              "      border: none;\n",
              "      border-radius: 50%;\n",
              "      cursor: pointer;\n",
              "      display: none;\n",
              "      fill: #1967D2;\n",
              "      height: 32px;\n",
              "      padding: 0 0 0 0;\n",
              "      width: 32px;\n",
              "    }\n",
              "\n",
              "    .colab-df-convert:hover {\n",
              "      background-color: #E2EBFA;\n",
              "      box-shadow: 0px 1px 2px rgba(60, 64, 67, 0.3), 0px 1px 3px 1px rgba(60, 64, 67, 0.15);\n",
              "      fill: #174EA6;\n",
              "    }\n",
              "\n",
              "    [theme=dark] .colab-df-convert {\n",
              "      background-color: #3B4455;\n",
              "      fill: #D2E3FC;\n",
              "    }\n",
              "\n",
              "    [theme=dark] .colab-df-convert:hover {\n",
              "      background-color: #434B5C;\n",
              "      box-shadow: 0px 1px 3px 1px rgba(0, 0, 0, 0.15);\n",
              "      filter: drop-shadow(0px 1px 2px rgba(0, 0, 0, 0.3));\n",
              "      fill: #FFFFFF;\n",
              "    }\n",
              "  </style>\n",
              "\n",
              "      <script>\n",
              "        const buttonEl =\n",
              "          document.querySelector('#df-f7497619-b330-4c0b-a8d1-e86f9c50ef9a button.colab-df-convert');\n",
              "        buttonEl.style.display =\n",
              "          google.colab.kernel.accessAllowed ? 'block' : 'none';\n",
              "\n",
              "        async function convertToInteractive(key) {\n",
              "          const element = document.querySelector('#df-f7497619-b330-4c0b-a8d1-e86f9c50ef9a');\n",
              "          const dataTable =\n",
              "            await google.colab.kernel.invokeFunction('convertToInteractive',\n",
              "                                                     [key], {});\n",
              "          if (!dataTable) return;\n",
              "\n",
              "          const docLinkHtml = 'Like what you see? Visit the ' +\n",
              "            '<a target=\"_blank\" href=https://colab.research.google.com/notebooks/data_table.ipynb>data table notebook</a>'\n",
              "            + ' to learn more about interactive tables.';\n",
              "          element.innerHTML = '';\n",
              "          dataTable['output_type'] = 'display_data';\n",
              "          await google.colab.output.renderOutput(dataTable, element);\n",
              "          const docLink = document.createElement('div');\n",
              "          docLink.innerHTML = docLinkHtml;\n",
              "          element.appendChild(docLink);\n",
              "        }\n",
              "      </script>\n",
              "    </div>\n",
              "  </div>\n",
              "  "
            ]
          },
          "metadata": {},
          "execution_count": 4
        }
      ]
    },
    {
      "cell_type": "code",
      "source": [
        "df.describe()"
      ],
      "metadata": {
        "colab": {
          "base_uri": "https://localhost:8080/",
          "height": 300
        },
        "id": "ve8Oc-NmKJ0S",
        "outputId": "784cf576-1d6f-46fe-ff1d-9ef763396464"
      },
      "execution_count": null,
      "outputs": [
        {
          "output_type": "execute_result",
          "data": {
            "text/plain": [
              "       Pregnancies     Glucose  BloodPressure  SkinThickness     Insulin  \\\n",
              "count   768.000000  768.000000     768.000000     768.000000  768.000000   \n",
              "mean      3.845052  120.894531      69.105469      20.536458   79.799479   \n",
              "std       3.369578   31.972618      19.355807      15.952218  115.244002   \n",
              "min       0.000000    0.000000       0.000000       0.000000    0.000000   \n",
              "25%       1.000000   99.000000      62.000000       0.000000    0.000000   \n",
              "50%       3.000000  117.000000      72.000000      23.000000   30.500000   \n",
              "75%       6.000000  140.250000      80.000000      32.000000  127.250000   \n",
              "max      17.000000  199.000000     122.000000      99.000000  846.000000   \n",
              "\n",
              "              BMI  DiabetesPedigreeFunction         Age     Outcome  \n",
              "count  768.000000                768.000000  768.000000  768.000000  \n",
              "mean    31.992578                  0.471876   33.240885    0.348958  \n",
              "std      7.884160                  0.331329   11.760232    0.476951  \n",
              "min      0.000000                  0.078000   21.000000    0.000000  \n",
              "25%     27.300000                  0.243750   24.000000    0.000000  \n",
              "50%     32.000000                  0.372500   29.000000    0.000000  \n",
              "75%     36.600000                  0.626250   41.000000    1.000000  \n",
              "max     67.100000                  2.420000   81.000000    1.000000  "
            ],
            "text/html": [
              "\n",
              "  <div id=\"df-8fdebeb4-8c02-41a8-ae4b-dee45fd63363\">\n",
              "    <div class=\"colab-df-container\">\n",
              "      <div>\n",
              "<style scoped>\n",
              "    .dataframe tbody tr th:only-of-type {\n",
              "        vertical-align: middle;\n",
              "    }\n",
              "\n",
              "    .dataframe tbody tr th {\n",
              "        vertical-align: top;\n",
              "    }\n",
              "\n",
              "    .dataframe thead th {\n",
              "        text-align: right;\n",
              "    }\n",
              "</style>\n",
              "<table border=\"1\" class=\"dataframe\">\n",
              "  <thead>\n",
              "    <tr style=\"text-align: right;\">\n",
              "      <th></th>\n",
              "      <th>Pregnancies</th>\n",
              "      <th>Glucose</th>\n",
              "      <th>BloodPressure</th>\n",
              "      <th>SkinThickness</th>\n",
              "      <th>Insulin</th>\n",
              "      <th>BMI</th>\n",
              "      <th>DiabetesPedigreeFunction</th>\n",
              "      <th>Age</th>\n",
              "      <th>Outcome</th>\n",
              "    </tr>\n",
              "  </thead>\n",
              "  <tbody>\n",
              "    <tr>\n",
              "      <th>count</th>\n",
              "      <td>768.000000</td>\n",
              "      <td>768.000000</td>\n",
              "      <td>768.000000</td>\n",
              "      <td>768.000000</td>\n",
              "      <td>768.000000</td>\n",
              "      <td>768.000000</td>\n",
              "      <td>768.000000</td>\n",
              "      <td>768.000000</td>\n",
              "      <td>768.000000</td>\n",
              "    </tr>\n",
              "    <tr>\n",
              "      <th>mean</th>\n",
              "      <td>3.845052</td>\n",
              "      <td>120.894531</td>\n",
              "      <td>69.105469</td>\n",
              "      <td>20.536458</td>\n",
              "      <td>79.799479</td>\n",
              "      <td>31.992578</td>\n",
              "      <td>0.471876</td>\n",
              "      <td>33.240885</td>\n",
              "      <td>0.348958</td>\n",
              "    </tr>\n",
              "    <tr>\n",
              "      <th>std</th>\n",
              "      <td>3.369578</td>\n",
              "      <td>31.972618</td>\n",
              "      <td>19.355807</td>\n",
              "      <td>15.952218</td>\n",
              "      <td>115.244002</td>\n",
              "      <td>7.884160</td>\n",
              "      <td>0.331329</td>\n",
              "      <td>11.760232</td>\n",
              "      <td>0.476951</td>\n",
              "    </tr>\n",
              "    <tr>\n",
              "      <th>min</th>\n",
              "      <td>0.000000</td>\n",
              "      <td>0.000000</td>\n",
              "      <td>0.000000</td>\n",
              "      <td>0.000000</td>\n",
              "      <td>0.000000</td>\n",
              "      <td>0.000000</td>\n",
              "      <td>0.078000</td>\n",
              "      <td>21.000000</td>\n",
              "      <td>0.000000</td>\n",
              "    </tr>\n",
              "    <tr>\n",
              "      <th>25%</th>\n",
              "      <td>1.000000</td>\n",
              "      <td>99.000000</td>\n",
              "      <td>62.000000</td>\n",
              "      <td>0.000000</td>\n",
              "      <td>0.000000</td>\n",
              "      <td>27.300000</td>\n",
              "      <td>0.243750</td>\n",
              "      <td>24.000000</td>\n",
              "      <td>0.000000</td>\n",
              "    </tr>\n",
              "    <tr>\n",
              "      <th>50%</th>\n",
              "      <td>3.000000</td>\n",
              "      <td>117.000000</td>\n",
              "      <td>72.000000</td>\n",
              "      <td>23.000000</td>\n",
              "      <td>30.500000</td>\n",
              "      <td>32.000000</td>\n",
              "      <td>0.372500</td>\n",
              "      <td>29.000000</td>\n",
              "      <td>0.000000</td>\n",
              "    </tr>\n",
              "    <tr>\n",
              "      <th>75%</th>\n",
              "      <td>6.000000</td>\n",
              "      <td>140.250000</td>\n",
              "      <td>80.000000</td>\n",
              "      <td>32.000000</td>\n",
              "      <td>127.250000</td>\n",
              "      <td>36.600000</td>\n",
              "      <td>0.626250</td>\n",
              "      <td>41.000000</td>\n",
              "      <td>1.000000</td>\n",
              "    </tr>\n",
              "    <tr>\n",
              "      <th>max</th>\n",
              "      <td>17.000000</td>\n",
              "      <td>199.000000</td>\n",
              "      <td>122.000000</td>\n",
              "      <td>99.000000</td>\n",
              "      <td>846.000000</td>\n",
              "      <td>67.100000</td>\n",
              "      <td>2.420000</td>\n",
              "      <td>81.000000</td>\n",
              "      <td>1.000000</td>\n",
              "    </tr>\n",
              "  </tbody>\n",
              "</table>\n",
              "</div>\n",
              "      <button class=\"colab-df-convert\" onclick=\"convertToInteractive('df-8fdebeb4-8c02-41a8-ae4b-dee45fd63363')\"\n",
              "              title=\"Convert this dataframe to an interactive table.\"\n",
              "              style=\"display:none;\">\n",
              "        \n",
              "  <svg xmlns=\"http://www.w3.org/2000/svg\" height=\"24px\"viewBox=\"0 0 24 24\"\n",
              "       width=\"24px\">\n",
              "    <path d=\"M0 0h24v24H0V0z\" fill=\"none\"/>\n",
              "    <path d=\"M18.56 5.44l.94 2.06.94-2.06 2.06-.94-2.06-.94-.94-2.06-.94 2.06-2.06.94zm-11 1L8.5 8.5l.94-2.06 2.06-.94-2.06-.94L8.5 2.5l-.94 2.06-2.06.94zm10 10l.94 2.06.94-2.06 2.06-.94-2.06-.94-.94-2.06-.94 2.06-2.06.94z\"/><path d=\"M17.41 7.96l-1.37-1.37c-.4-.4-.92-.59-1.43-.59-.52 0-1.04.2-1.43.59L10.3 9.45l-7.72 7.72c-.78.78-.78 2.05 0 2.83L4 21.41c.39.39.9.59 1.41.59.51 0 1.02-.2 1.41-.59l7.78-7.78 2.81-2.81c.8-.78.8-2.07 0-2.86zM5.41 20L4 18.59l7.72-7.72 1.47 1.35L5.41 20z\"/>\n",
              "  </svg>\n",
              "      </button>\n",
              "      \n",
              "  <style>\n",
              "    .colab-df-container {\n",
              "      display:flex;\n",
              "      flex-wrap:wrap;\n",
              "      gap: 12px;\n",
              "    }\n",
              "\n",
              "    .colab-df-convert {\n",
              "      background-color: #E8F0FE;\n",
              "      border: none;\n",
              "      border-radius: 50%;\n",
              "      cursor: pointer;\n",
              "      display: none;\n",
              "      fill: #1967D2;\n",
              "      height: 32px;\n",
              "      padding: 0 0 0 0;\n",
              "      width: 32px;\n",
              "    }\n",
              "\n",
              "    .colab-df-convert:hover {\n",
              "      background-color: #E2EBFA;\n",
              "      box-shadow: 0px 1px 2px rgba(60, 64, 67, 0.3), 0px 1px 3px 1px rgba(60, 64, 67, 0.15);\n",
              "      fill: #174EA6;\n",
              "    }\n",
              "\n",
              "    [theme=dark] .colab-df-convert {\n",
              "      background-color: #3B4455;\n",
              "      fill: #D2E3FC;\n",
              "    }\n",
              "\n",
              "    [theme=dark] .colab-df-convert:hover {\n",
              "      background-color: #434B5C;\n",
              "      box-shadow: 0px 1px 3px 1px rgba(0, 0, 0, 0.15);\n",
              "      filter: drop-shadow(0px 1px 2px rgba(0, 0, 0, 0.3));\n",
              "      fill: #FFFFFF;\n",
              "    }\n",
              "  </style>\n",
              "\n",
              "      <script>\n",
              "        const buttonEl =\n",
              "          document.querySelector('#df-8fdebeb4-8c02-41a8-ae4b-dee45fd63363 button.colab-df-convert');\n",
              "        buttonEl.style.display =\n",
              "          google.colab.kernel.accessAllowed ? 'block' : 'none';\n",
              "\n",
              "        async function convertToInteractive(key) {\n",
              "          const element = document.querySelector('#df-8fdebeb4-8c02-41a8-ae4b-dee45fd63363');\n",
              "          const dataTable =\n",
              "            await google.colab.kernel.invokeFunction('convertToInteractive',\n",
              "                                                     [key], {});\n",
              "          if (!dataTable) return;\n",
              "\n",
              "          const docLinkHtml = 'Like what you see? Visit the ' +\n",
              "            '<a target=\"_blank\" href=https://colab.research.google.com/notebooks/data_table.ipynb>data table notebook</a>'\n",
              "            + ' to learn more about interactive tables.';\n",
              "          element.innerHTML = '';\n",
              "          dataTable['output_type'] = 'display_data';\n",
              "          await google.colab.output.renderOutput(dataTable, element);\n",
              "          const docLink = document.createElement('div');\n",
              "          docLink.innerHTML = docLinkHtml;\n",
              "          element.appendChild(docLink);\n",
              "        }\n",
              "      </script>\n",
              "    </div>\n",
              "  </div>\n",
              "  "
            ]
          },
          "metadata": {},
          "execution_count": 5
        }
      ]
    },
    {
      "cell_type": "code",
      "source": [
        "df.shape\n"
      ],
      "metadata": {
        "colab": {
          "base_uri": "https://localhost:8080/"
        },
        "id": "RwYr33NqK2_4",
        "outputId": "0fd0fc09-e80b-4bcb-8ac6-444d2d6e2111"
      },
      "execution_count": null,
      "outputs": [
        {
          "output_type": "execute_result",
          "data": {
            "text/plain": [
              "(768, 9)"
            ]
          },
          "metadata": {},
          "execution_count": 6
        }
      ]
    },
    {
      "cell_type": "code",
      "source": [
        "sns.countplot(x='Outcome', data=df)\n",
        "print('Number of Outcome for each 0 and 1 are:\\n',\n",
        "      df['Outcome'].value_counts())\n"
      ],
      "metadata": {
        "colab": {
          "base_uri": "https://localhost:8080/",
          "height": 348
        },
        "id": "cisnjcO1LYEK",
        "outputId": "a4b029fb-be12-4a4b-ce98-3e9b97b5302b"
      },
      "execution_count": null,
      "outputs": [
        {
          "output_type": "stream",
          "name": "stdout",
          "text": [
            "Number of Outcome for each 0 and 1 are:\n",
            " 0    500\n",
            "1    268\n",
            "Name: Outcome, dtype: int64\n"
          ]
        },
        {
          "output_type": "display_data",
          "data": {
            "text/plain": [
              "<Figure size 432x288 with 1 Axes>"
            ],
            "image/png": "[encoded data removed]"
          },
          "metadata": {
            "needs_background": "light"
          }
        }
      ]
    },
    {
      "cell_type": "code",
      "source": [
        "plt.subplots(figsize=(9, 9))\n",
        "sns.heatmap(df.corr(), annot=True)"
      ],
      "metadata": {
        "colab": {
          "base_uri": "https://localhost:8080/",
          "height": 679
        },
        "id": "WRDn2AOKMeYM",
        "outputId": "d9cca06d-558a-47bb-fccc-50050a3cbbf2"
      },
      "execution_count": null,
      "outputs": [
        {
          "output_type": "execute_result",
          "data": {
            "text/plain": [
              "<matplotlib.axes._subplots.AxesSubplot at 0x7ff50ed095b0>"
            ]
          },
          "metadata": {},
          "execution_count": 8
        },
        {
          "output_type": "display_data",
          "data": {
            "text/plain": [
              "<Figure size 648x648 with 2 Axes>"
            ],
            "image/png": "[encoded data removed]"
          },
          "metadata": {
            "needs_background": "light"
          }
        }
      ]
    },
    {
      "cell_type": "code",
      "source": [
        "x = df.drop(\"Outcome\", axis=1)\n",
        "y = df.Outcome"
      ],
      "metadata": {
        "id": "fRiowivxRno1"
      },
      "execution_count": null,
      "outputs": []
    },
    {
      "cell_type": "code",
      "source": [
        "x.shape"
      ],
      "metadata": {
        "colab": {
          "base_uri": "https://localhost:8080/"
        },
        "id": "SGA0nlf6Rymy",
        "outputId": "42c8c0c5-0557-492e-ceb7-9e39015a0a9f"
      },
      "execution_count": null,
      "outputs": [
        {
          "output_type": "execute_result",
          "data": {
            "text/plain": [
              "(768, 8)"
            ]
          },
          "metadata": {},
          "execution_count": 10
        }
      ]
    },
    {
      "cell_type": "code",
      "source": [
        "y.shape"
      ],
      "metadata": {
        "colab": {
          "base_uri": "https://localhost:8080/"
        },
        "id": "q5WssgwCR2gE",
        "outputId": "7000b5e2-692f-4765-9ac7-abda5167ee7c"
      },
      "execution_count": null,
      "outputs": [
        {
          "output_type": "execute_result",
          "data": {
            "text/plain": [
              "(768,)"
            ]
          },
          "metadata": {},
          "execution_count": 11
        }
      ]
    },
    {
      "cell_type": "code",
      "source": [
        "y.head()"
      ],
      "metadata": {
        "colab": {
          "base_uri": "https://localhost:8080/"
        },
        "id": "lxwuclHbR7L2",
        "outputId": "c2c55373-c05a-40ce-bfe6-80c4316f8ea7"
      },
      "execution_count": null,
      "outputs": [
        {
          "output_type": "execute_result",
          "data": {
            "text/plain": [
              "0    1\n",
              "1    0\n",
              "2    1\n",
              "3    0\n",
              "4    1\n",
              "Name: Outcome, dtype: int64"
            ]
          },
          "metadata": {},
          "execution_count": 12
        }
      ]
    },
    {
      "cell_type": "code",
      "source": [
        "from sklearn.model_selection import train_test_split\n",
        "X_train, X_test, y_train, y_test = train_test_split(x, y, test_size=0.2)"
      ],
      "metadata": {
        "id": "YUJyh47XSMmK"
      },
      "execution_count": null,
      "outputs": []
    },
    {
      "cell_type": "code",
      "source": [
        "X_test.shape"
      ],
      "metadata": {
        "colab": {
          "base_uri": "https://localhost:8080/"
        },
        "id": "8ODFJsIjSR-x",
        "outputId": "3c0e0484-96aa-4acf-ebf1-4daedf998e4a"
      },
      "execution_count": null,
      "outputs": [
        {
          "output_type": "execute_result",
          "data": {
            "text/plain": [
              "(154, 8)"
            ]
          },
          "metadata": {},
          "execution_count": 14
        }
      ]
    },
    {
      "cell_type": "code",
      "source": [
        "model = Sequential()\n",
        "model.add(Dense(12, input_dim=8, activation='relu'))\n",
        "model.add(Dense(8, activation='relu'))\n",
        "model.add(Dense(1, activation='sigmoid'))\n",
        "model.compile(loss='binary_crossentropy',\n",
        "              optimizer='adam', metrics=['accuracy'])"
      ],
      "metadata": {
        "id": "xscEaCHmSWCo"
      },
      "execution_count": null,
      "outputs": []
    },
    {
      "cell_type": "code",
      "source": [
        "model.fit(X_train, y_train, validation_data=(\n",
        "    X_test, y_test), epochs=200, batch_size=10)"
      ],
      "metadata": {
        "colab": {
          "base_uri": "https://localhost:8080/"
        },
        "id": "2eYeWZIwSaVr",
        "outputId": "2aba0d63-6641-491e-f34d-1c51a0e872bb"
      },
      "execution_count": null,
      "outputs": [
        {
          "output_type": "stream",
          "name": "stdout",
          "text": [
            "Epoch 1/200\n",
            "62/62 [==============================] - 1s 5ms/step - loss: 10.5388 - accuracy: 0.3795 - val_loss: 4.1122 - val_accuracy: 0.4805\n",
            "Epoch 2/200\n",
            "62/62 [==============================] - 0s 2ms/step - loss: 1.6621 - accuracy: 0.6254 - val_loss: 1.2150 - val_accuracy: 0.6623\n",
            "Epoch 3/200\n",
            "62/62 [==============================] - 0s 2ms/step - loss: 1.0464 - accuracy: 0.6840 - val_loss: 0.9192 - val_accuracy: 0.6688\n",
            "Epoch 4/200\n",
            "62/62 [==============================] - 0s 2ms/step - loss: 0.7989 - accuracy: 0.6824 - val_loss: 0.7469 - val_accuracy: 0.7143\n",
            "Epoch 5/200\n",
            "62/62 [==============================] - 0s 2ms/step - loss: 0.7237 - accuracy: 0.6726 - val_loss: 0.6975 - val_accuracy: 0.7208\n",
            "Epoch 6/200\n",
            "62/62 [==============================] - 0s 2ms/step - loss: 0.7082 - accuracy: 0.6466 - val_loss: 0.6942 - val_accuracy: 0.7078\n",
            "Epoch 7/200\n",
            "62/62 [==============================] - 0s 2ms/step - loss: 0.6938 - accuracy: 0.6596 - val_loss: 0.6941 - val_accuracy: 0.7078\n",
            "Epoch 8/200\n",
            "62/62 [==============================] - 0s 2ms/step - loss: 0.6869 - accuracy: 0.6547 - val_loss: 0.7033 - val_accuracy: 0.7078\n",
            "Epoch 9/200\n",
            "62/62 [==============================] - 0s 2ms/step - loss: 0.6763 - accuracy: 0.6580 - val_loss: 0.6828 - val_accuracy: 0.7013\n",
            "Epoch 10/200\n",
            "62/62 [==============================] - 0s 2ms/step - loss: 0.6657 - accuracy: 0.6596 - val_loss: 0.6714 - val_accuracy: 0.7078\n",
            "Epoch 11/200\n",
            "62/62 [==============================] - 0s 2ms/step - loss: 0.6591 - accuracy: 0.6629 - val_loss: 0.6773 - val_accuracy: 0.7078\n",
            "Epoch 12/200\n",
            "62/62 [==============================] - 0s 3ms/step - loss: 0.6549 - accuracy: 0.6645 - val_loss: 0.6699 - val_accuracy: 0.7013\n",
            "Epoch 13/200\n",
            "62/62 [==============================] - 0s 2ms/step - loss: 0.6506 - accuracy: 0.6678 - val_loss: 0.6674 - val_accuracy: 0.7013\n",
            "Epoch 14/200\n",
            "62/62 [==============================] - 0s 2ms/step - loss: 0.6499 - accuracy: 0.6629 - val_loss: 0.6660 - val_accuracy: 0.7013\n",
            "Epoch 15/200\n",
            "62/62 [==============================] - 0s 3ms/step - loss: 0.6408 - accuracy: 0.6645 - val_loss: 0.6615 - val_accuracy: 0.6948\n",
            "Epoch 16/200\n",
            "62/62 [==============================] - 0s 2ms/step - loss: 0.6355 - accuracy: 0.6612 - val_loss: 0.6672 - val_accuracy: 0.7013\n",
            "Epoch 17/200\n",
            "62/62 [==============================] - 0s 2ms/step - loss: 0.6366 - accuracy: 0.6645 - val_loss: 0.6629 - val_accuracy: 0.7013\n",
            "Epoch 18/200\n",
            "62/62 [==============================] - 0s 2ms/step - loss: 0.6288 - accuracy: 0.6629 - val_loss: 0.6497 - val_accuracy: 0.6883\n",
            "Epoch 19/200\n",
            "62/62 [==============================] - 0s 2ms/step - loss: 0.6298 - accuracy: 0.6629 - val_loss: 0.6534 - val_accuracy: 0.7013\n",
            "Epoch 20/200\n",
            "62/62 [==============================] - 0s 2ms/step - loss: 0.6249 - accuracy: 0.6710 - val_loss: 0.6476 - val_accuracy: 0.6948\n",
            "Epoch 21/200\n",
            "62/62 [==============================] - 0s 2ms/step - loss: 0.6206 - accuracy: 0.6743 - val_loss: 0.6473 - val_accuracy: 0.6948\n",
            "Epoch 22/200\n",
            "62/62 [==============================] - 0s 2ms/step - loss: 0.6210 - accuracy: 0.6645 - val_loss: 0.6445 - val_accuracy: 0.6948\n",
            "Epoch 23/200\n",
            "62/62 [==============================] - 0s 2ms/step - loss: 0.6170 - accuracy: 0.6678 - val_loss: 0.6474 - val_accuracy: 0.7013\n",
            "Epoch 24/200\n",
            "62/62 [==============================] - 0s 2ms/step - loss: 0.6135 - accuracy: 0.6694 - val_loss: 0.6312 - val_accuracy: 0.6948\n",
            "Epoch 25/200\n",
            "62/62 [==============================] - 0s 2ms/step - loss: 0.6138 - accuracy: 0.6694 - val_loss: 0.6470 - val_accuracy: 0.6948\n",
            "Epoch 26/200\n",
            "62/62 [==============================] - 0s 2ms/step - loss: 0.6137 - accuracy: 0.6678 - val_loss: 0.6393 - val_accuracy: 0.7013\n",
            "Epoch 27/200\n",
            "62/62 [==============================] - 0s 2ms/step - loss: 0.6099 - accuracy: 0.6759 - val_loss: 0.6242 - val_accuracy: 0.6948\n",
            "Epoch 28/200\n",
            "62/62 [==============================] - 0s 2ms/step - loss: 0.6089 - accuracy: 0.6678 - val_loss: 0.6352 - val_accuracy: 0.6948\n",
            "Epoch 29/200\n",
            "62/62 [==============================] - 0s 2ms/step - loss: 0.6056 - accuracy: 0.6710 - val_loss: 0.6405 - val_accuracy: 0.7013\n",
            "Epoch 30/200\n",
            "62/62 [==============================] - 0s 2ms/step - loss: 0.6022 - accuracy: 0.6710 - val_loss: 0.6366 - val_accuracy: 0.7013\n",
            "Epoch 31/200\n",
            "62/62 [==============================] - 0s 2ms/step - loss: 0.6048 - accuracy: 0.6710 - val_loss: 0.6396 - val_accuracy: 0.7078\n",
            "Epoch 32/200\n",
            "62/62 [==============================] - 0s 2ms/step - loss: 0.6100 - accuracy: 0.6775 - val_loss: 0.6432 - val_accuracy: 0.7013\n",
            "Epoch 33/200\n",
            "62/62 [==============================] - 0s 3ms/step - loss: 0.6028 - accuracy: 0.6792 - val_loss: 0.6492 - val_accuracy: 0.6883\n",
            "Epoch 34/200\n",
            "62/62 [==============================] - 0s 2ms/step - loss: 0.6028 - accuracy: 0.6726 - val_loss: 0.6274 - val_accuracy: 0.6948\n",
            "Epoch 35/200\n",
            "62/62 [==============================] - 0s 2ms/step - loss: 0.6165 - accuracy: 0.6759 - val_loss: 0.6371 - val_accuracy: 0.7078\n",
            "Epoch 36/200\n",
            "62/62 [==============================] - 0s 2ms/step - loss: 0.5978 - accuracy: 0.6743 - val_loss: 0.6508 - val_accuracy: 0.6883\n",
            "Epoch 37/200\n",
            "62/62 [==============================] - 0s 2ms/step - loss: 0.5968 - accuracy: 0.6792 - val_loss: 0.6407 - val_accuracy: 0.7078\n",
            "Epoch 38/200\n",
            "62/62 [==============================] - 0s 2ms/step - loss: 0.5977 - accuracy: 0.6775 - val_loss: 0.6369 - val_accuracy: 0.6948\n",
            "Epoch 39/200\n",
            "62/62 [==============================] - 0s 2ms/step - loss: 0.5963 - accuracy: 0.6726 - val_loss: 0.6213 - val_accuracy: 0.6948\n",
            "Epoch 40/200\n",
            "62/62 [==============================] - 0s 2ms/step - loss: 0.5949 - accuracy: 0.6775 - val_loss: 0.6331 - val_accuracy: 0.7013\n",
            "Epoch 41/200\n",
            "62/62 [==============================] - 0s 2ms/step - loss: 0.5970 - accuracy: 0.6759 - val_loss: 0.6301 - val_accuracy: 0.7078\n",
            "Epoch 42/200\n",
            "62/62 [==============================] - 0s 2ms/step - loss: 0.5945 - accuracy: 0.6792 - val_loss: 0.6438 - val_accuracy: 0.7013\n",
            "Epoch 43/200\n",
            "62/62 [==============================] - 0s 2ms/step - loss: 0.5972 - accuracy: 0.6775 - val_loss: 0.6296 - val_accuracy: 0.6948\n",
            "Epoch 44/200\n",
            "62/62 [==============================] - 0s 2ms/step - loss: 0.5949 - accuracy: 0.6792 - val_loss: 0.6228 - val_accuracy: 0.6948\n",
            "Epoch 45/200\n",
            "62/62 [==============================] - 0s 2ms/step - loss: 0.5889 - accuracy: 0.6824 - val_loss: 0.6751 - val_accuracy: 0.6753\n",
            "Epoch 46/200\n",
            "62/62 [==============================] - 0s 2ms/step - loss: 0.5992 - accuracy: 0.6759 - val_loss: 0.6569 - val_accuracy: 0.6753\n",
            "Epoch 47/200\n",
            "62/62 [==============================] - 0s 2ms/step - loss: 0.5902 - accuracy: 0.6726 - val_loss: 0.6325 - val_accuracy: 0.6948\n",
            "Epoch 48/200\n",
            "62/62 [==============================] - 0s 2ms/step - loss: 0.5912 - accuracy: 0.6792 - val_loss: 0.6181 - val_accuracy: 0.6948\n",
            "Epoch 49/200\n",
            "62/62 [==============================] - 0s 2ms/step - loss: 0.5945 - accuracy: 0.6726 - val_loss: 0.6235 - val_accuracy: 0.6948\n",
            "Epoch 50/200\n",
            "62/62 [==============================] - 0s 2ms/step - loss: 0.5921 - accuracy: 0.6743 - val_loss: 0.6495 - val_accuracy: 0.7078\n",
            "Epoch 51/200\n",
            "62/62 [==============================] - 0s 2ms/step - loss: 0.5869 - accuracy: 0.6808 - val_loss: 0.6342 - val_accuracy: 0.6818\n",
            "Epoch 52/200\n",
            "62/62 [==============================] - 0s 2ms/step - loss: 0.5930 - accuracy: 0.6808 - val_loss: 0.6399 - val_accuracy: 0.6948\n",
            "Epoch 53/200\n",
            "62/62 [==============================] - 0s 2ms/step - loss: 0.5951 - accuracy: 0.6808 - val_loss: 0.6310 - val_accuracy: 0.6948\n",
            "Epoch 54/200\n",
            "62/62 [==============================] - 0s 2ms/step - loss: 0.5893 - accuracy: 0.6759 - val_loss: 0.6284 - val_accuracy: 0.6948\n",
            "Epoch 55/200\n",
            "62/62 [==============================] - 0s 2ms/step - loss: 0.5865 - accuracy: 0.6840 - val_loss: 0.6359 - val_accuracy: 0.6948\n",
            "Epoch 56/200\n",
            "62/62 [==============================] - 0s 2ms/step - loss: 0.5868 - accuracy: 0.6824 - val_loss: 0.6363 - val_accuracy: 0.6883\n",
            "Epoch 57/200\n",
            "62/62 [==============================] - 0s 2ms/step - loss: 0.5935 - accuracy: 0.6840 - val_loss: 0.6267 - val_accuracy: 0.6948\n",
            "Epoch 58/200\n",
            "62/62 [==============================] - 0s 2ms/step - loss: 0.5849 - accuracy: 0.6808 - val_loss: 0.6381 - val_accuracy: 0.6948\n",
            "Epoch 59/200\n",
            "62/62 [==============================] - 0s 2ms/step - loss: 0.5889 - accuracy: 0.6824 - val_loss: 0.6154 - val_accuracy: 0.6948\n",
            "Epoch 60/200\n",
            "62/62 [==============================] - 0s 2ms/step - loss: 0.5833 - accuracy: 0.6873 - val_loss: 0.6305 - val_accuracy: 0.6948\n",
            "Epoch 61/200\n",
            "62/62 [==============================] - 0s 3ms/step - loss: 0.5789 - accuracy: 0.6840 - val_loss: 0.6372 - val_accuracy: 0.6948\n",
            "Epoch 62/200\n",
            "62/62 [==============================] - 0s 2ms/step - loss: 0.5853 - accuracy: 0.6808 - val_loss: 0.6473 - val_accuracy: 0.6883\n",
            "Epoch 63/200\n",
            "62/62 [==============================] - 0s 2ms/step - loss: 0.5847 - accuracy: 0.6840 - val_loss: 0.6175 - val_accuracy: 0.6948\n",
            "Epoch 64/200\n",
            "62/62 [==============================] - 0s 2ms/step - loss: 0.5774 - accuracy: 0.6759 - val_loss: 0.6271 - val_accuracy: 0.6883\n",
            "Epoch 65/200\n",
            "62/62 [==============================] - 0s 2ms/step - loss: 0.5823 - accuracy: 0.6840 - val_loss: 0.6601 - val_accuracy: 0.6948\n",
            "Epoch 66/200\n",
            "62/62 [==============================] - 0s 2ms/step - loss: 0.5893 - accuracy: 0.6792 - val_loss: 0.6094 - val_accuracy: 0.6948\n",
            "Epoch 67/200\n",
            "62/62 [==============================] - 0s 2ms/step - loss: 0.5802 - accuracy: 0.6824 - val_loss: 0.6358 - val_accuracy: 0.6818\n",
            "Epoch 68/200\n",
            "62/62 [==============================] - 0s 2ms/step - loss: 0.5796 - accuracy: 0.6824 - val_loss: 0.6271 - val_accuracy: 0.6753\n",
            "Epoch 69/200\n",
            "62/62 [==============================] - 0s 2ms/step - loss: 0.5800 - accuracy: 0.6840 - val_loss: 0.6258 - val_accuracy: 0.6818\n",
            "Epoch 70/200\n",
            "62/62 [==============================] - 0s 2ms/step - loss: 0.5802 - accuracy: 0.6792 - val_loss: 0.5996 - val_accuracy: 0.6818\n",
            "Epoch 71/200\n",
            "62/62 [==============================] - 0s 2ms/step - loss: 0.5824 - accuracy: 0.6792 - val_loss: 0.6305 - val_accuracy: 0.6948\n",
            "Epoch 72/200\n",
            "62/62 [==============================] - 0s 2ms/step - loss: 0.5776 - accuracy: 0.6808 - val_loss: 0.6211 - val_accuracy: 0.6948\n",
            "Epoch 73/200\n",
            "62/62 [==============================] - 0s 2ms/step - loss: 0.5759 - accuracy: 0.6857 - val_loss: 0.6363 - val_accuracy: 0.6883\n",
            "Epoch 74/200\n",
            "62/62 [==============================] - 0s 2ms/step - loss: 0.5808 - accuracy: 0.6808 - val_loss: 0.6301 - val_accuracy: 0.6948\n",
            "Epoch 75/200\n",
            "62/62 [==============================] - 0s 2ms/step - loss: 0.5761 - accuracy: 0.6857 - val_loss: 0.6498 - val_accuracy: 0.7013\n",
            "Epoch 76/200\n",
            "62/62 [==============================] - 0s 3ms/step - loss: 0.5815 - accuracy: 0.6792 - val_loss: 0.6080 - val_accuracy: 0.6948\n",
            "Epoch 77/200\n",
            "62/62 [==============================] - 0s 2ms/step - loss: 0.5838 - accuracy: 0.6808 - val_loss: 0.6220 - val_accuracy: 0.6948\n",
            "Epoch 78/200\n",
            "62/62 [==============================] - 0s 2ms/step - loss: 0.5773 - accuracy: 0.6759 - val_loss: 0.6042 - val_accuracy: 0.6948\n",
            "Epoch 79/200\n",
            "62/62 [==============================] - 0s 2ms/step - loss: 0.5766 - accuracy: 0.6792 - val_loss: 0.6210 - val_accuracy: 0.7013\n",
            "Epoch 80/200\n",
            "62/62 [==============================] - 0s 2ms/step - loss: 0.5851 - accuracy: 0.6808 - val_loss: 0.6117 - val_accuracy: 0.6948\n",
            "Epoch 81/200\n",
            "62/62 [==============================] - 0s 2ms/step - loss: 0.5779 - accuracy: 0.6873 - val_loss: 0.6202 - val_accuracy: 0.7078\n",
            "Epoch 82/200\n",
            "62/62 [==============================] - 0s 2ms/step - loss: 0.5791 - accuracy: 0.6775 - val_loss: 0.6502 - val_accuracy: 0.6883\n",
            "Epoch 83/200\n",
            "62/62 [==============================] - 0s 2ms/step - loss: 0.5817 - accuracy: 0.6824 - val_loss: 0.6181 - val_accuracy: 0.7013\n",
            "Epoch 84/200\n",
            "62/62 [==============================] - 0s 2ms/step - loss: 0.5754 - accuracy: 0.6840 - val_loss: 0.6325 - val_accuracy: 0.6818\n",
            "Epoch 85/200\n",
            "62/62 [==============================] - 0s 2ms/step - loss: 0.5842 - accuracy: 0.6857 - val_loss: 0.6163 - val_accuracy: 0.6948\n",
            "Epoch 86/200\n",
            "62/62 [==============================] - 0s 2ms/step - loss: 0.5872 - accuracy: 0.6808 - val_loss: 0.6340 - val_accuracy: 0.6818\n",
            "Epoch 87/200\n",
            "62/62 [==============================] - 0s 2ms/step - loss: 0.5844 - accuracy: 0.6792 - val_loss: 0.6316 - val_accuracy: 0.7013\n",
            "Epoch 88/200\n",
            "62/62 [==============================] - 0s 2ms/step - loss: 0.5801 - accuracy: 0.6808 - val_loss: 0.6154 - val_accuracy: 0.6948\n",
            "Epoch 89/200\n",
            "62/62 [==============================] - 0s 2ms/step - loss: 0.5730 - accuracy: 0.6873 - val_loss: 0.6100 - val_accuracy: 0.7078\n",
            "Epoch 90/200\n",
            "62/62 [==============================] - 0s 2ms/step - loss: 0.5774 - accuracy: 0.6808 - val_loss: 0.6225 - val_accuracy: 0.6818\n",
            "Epoch 91/200\n",
            "62/62 [==============================] - 0s 2ms/step - loss: 0.5763 - accuracy: 0.6889 - val_loss: 0.6205 - val_accuracy: 0.7013\n",
            "Epoch 92/200\n",
            "62/62 [==============================] - 0s 2ms/step - loss: 0.5822 - accuracy: 0.6873 - val_loss: 0.6170 - val_accuracy: 0.6948\n",
            "Epoch 93/200\n",
            "62/62 [==============================] - 0s 3ms/step - loss: 0.5793 - accuracy: 0.6873 - val_loss: 0.6225 - val_accuracy: 0.7013\n",
            "Epoch 94/200\n",
            "62/62 [==============================] - 0s 2ms/step - loss: 0.5728 - accuracy: 0.6889 - val_loss: 0.6440 - val_accuracy: 0.6948\n",
            "Epoch 95/200\n",
            "62/62 [==============================] - 0s 2ms/step - loss: 0.5914 - accuracy: 0.6759 - val_loss: 0.6069 - val_accuracy: 0.7078\n",
            "Epoch 96/200\n",
            "62/62 [==============================] - 0s 2ms/step - loss: 0.5756 - accuracy: 0.6857 - val_loss: 0.6249 - val_accuracy: 0.6818\n",
            "Epoch 97/200\n",
            "62/62 [==============================] - 0s 2ms/step - loss: 0.5800 - accuracy: 0.6857 - val_loss: 0.6125 - val_accuracy: 0.6948\n",
            "Epoch 98/200\n",
            "62/62 [==============================] - 0s 2ms/step - loss: 0.5769 - accuracy: 0.6889 - val_loss: 0.6134 - val_accuracy: 0.6948\n",
            "Epoch 99/200\n",
            "62/62 [==============================] - 0s 2ms/step - loss: 0.5763 - accuracy: 0.6824 - val_loss: 0.6765 - val_accuracy: 0.6883\n",
            "Epoch 100/200\n",
            "62/62 [==============================] - 0s 2ms/step - loss: 0.5742 - accuracy: 0.6824 - val_loss: 0.6082 - val_accuracy: 0.7078\n",
            "Epoch 101/200\n",
            "62/62 [==============================] - 0s 2ms/step - loss: 0.5710 - accuracy: 0.6889 - val_loss: 0.6186 - val_accuracy: 0.7013\n",
            "Epoch 102/200\n",
            "62/62 [==============================] - 0s 2ms/step - loss: 0.5735 - accuracy: 0.6873 - val_loss: 0.6290 - val_accuracy: 0.6883\n",
            "Epoch 103/200\n",
            "62/62 [==============================] - 0s 2ms/step - loss: 0.5792 - accuracy: 0.6906 - val_loss: 0.6431 - val_accuracy: 0.6883\n",
            "Epoch 104/200\n",
            "62/62 [==============================] - 0s 2ms/step - loss: 0.5678 - accuracy: 0.6857 - val_loss: 0.6351 - val_accuracy: 0.6948\n",
            "Epoch 105/200\n",
            "62/62 [==============================] - 0s 2ms/step - loss: 0.5706 - accuracy: 0.6857 - val_loss: 0.6411 - val_accuracy: 0.6883\n",
            "Epoch 106/200\n",
            "62/62 [==============================] - 0s 2ms/step - loss: 0.5729 - accuracy: 0.6840 - val_loss: 0.6178 - val_accuracy: 0.6883\n",
            "Epoch 107/200\n",
            "62/62 [==============================] - 0s 2ms/step - loss: 0.5742 - accuracy: 0.6857 - val_loss: 0.6496 - val_accuracy: 0.6818\n",
            "Epoch 108/200\n",
            "62/62 [==============================] - 0s 2ms/step - loss: 0.5807 - accuracy: 0.6857 - val_loss: 0.6288 - val_accuracy: 0.6883\n",
            "Epoch 109/200\n",
            "62/62 [==============================] - 0s 2ms/step - loss: 0.5708 - accuracy: 0.6775 - val_loss: 0.6285 - val_accuracy: 0.7013\n",
            "Epoch 110/200\n",
            "62/62 [==============================] - 0s 2ms/step - loss: 0.5784 - accuracy: 0.6857 - val_loss: 0.6178 - val_accuracy: 0.7013\n",
            "Epoch 111/200\n",
            "62/62 [==============================] - 0s 2ms/step - loss: 0.5765 - accuracy: 0.6857 - val_loss: 0.6267 - val_accuracy: 0.6818\n",
            "Epoch 112/200\n",
            "62/62 [==============================] - 0s 2ms/step - loss: 0.5720 - accuracy: 0.6840 - val_loss: 0.6186 - val_accuracy: 0.6948\n",
            "Epoch 113/200\n",
            "62/62 [==============================] - 0s 2ms/step - loss: 0.5804 - accuracy: 0.6824 - val_loss: 0.6190 - val_accuracy: 0.7078\n",
            "Epoch 114/200\n",
            "62/62 [==============================] - 0s 2ms/step - loss: 0.5692 - accuracy: 0.6857 - val_loss: 0.6347 - val_accuracy: 0.6818\n",
            "Epoch 115/200\n",
            "62/62 [==============================] - 0s 2ms/step - loss: 0.5697 - accuracy: 0.6824 - val_loss: 0.6315 - val_accuracy: 0.6883\n",
            "Epoch 116/200\n",
            "62/62 [==============================] - 0s 2ms/step - loss: 0.5714 - accuracy: 0.6840 - val_loss: 0.6321 - val_accuracy: 0.7013\n",
            "Epoch 117/200\n",
            "62/62 [==============================] - 0s 2ms/step - loss: 0.5761 - accuracy: 0.6857 - val_loss: 0.6386 - val_accuracy: 0.6753\n",
            "Epoch 118/200\n",
            "62/62 [==============================] - 0s 3ms/step - loss: 0.5693 - accuracy: 0.6775 - val_loss: 0.6114 - val_accuracy: 0.6948\n",
            "Epoch 119/200\n",
            "62/62 [==============================] - 0s 2ms/step - loss: 0.5739 - accuracy: 0.6840 - val_loss: 0.6184 - val_accuracy: 0.6948\n",
            "Epoch 120/200\n",
            "62/62 [==============================] - 0s 2ms/step - loss: 0.5719 - accuracy: 0.6824 - val_loss: 0.6073 - val_accuracy: 0.7013\n",
            "Epoch 121/200\n",
            "62/62 [==============================] - 0s 2ms/step - loss: 0.5773 - accuracy: 0.6808 - val_loss: 0.6078 - val_accuracy: 0.7078\n",
            "Epoch 122/200\n",
            "62/62 [==============================] - 0s 2ms/step - loss: 0.5710 - accuracy: 0.6873 - val_loss: 0.6250 - val_accuracy: 0.6948\n",
            "Epoch 123/200\n",
            "62/62 [==============================] - 0s 2ms/step - loss: 0.5760 - accuracy: 0.6857 - val_loss: 0.6367 - val_accuracy: 0.6818\n",
            "Epoch 124/200\n",
            "62/62 [==============================] - 0s 2ms/step - loss: 0.5782 - accuracy: 0.6840 - val_loss: 0.6111 - val_accuracy: 0.7078\n",
            "Epoch 125/200\n",
            "62/62 [==============================] - 0s 2ms/step - loss: 0.5666 - accuracy: 0.6889 - val_loss: 0.6155 - val_accuracy: 0.6883\n",
            "Epoch 126/200\n",
            "62/62 [==============================] - 0s 3ms/step - loss: 0.5685 - accuracy: 0.6857 - val_loss: 0.6249 - val_accuracy: 0.6753\n",
            "Epoch 127/200\n",
            "62/62 [==============================] - 0s 2ms/step - loss: 0.5752 - accuracy: 0.6840 - val_loss: 0.6301 - val_accuracy: 0.6818\n",
            "Epoch 128/200\n",
            "62/62 [==============================] - 0s 2ms/step - loss: 0.5686 - accuracy: 0.6857 - val_loss: 0.6293 - val_accuracy: 0.6818\n",
            "Epoch 129/200\n",
            "62/62 [==============================] - 0s 2ms/step - loss: 0.5740 - accuracy: 0.6889 - val_loss: 0.6203 - val_accuracy: 0.6818\n",
            "Epoch 130/200\n",
            "62/62 [==============================] - 0s 3ms/step - loss: 0.5701 - accuracy: 0.6873 - val_loss: 0.6114 - val_accuracy: 0.7013\n",
            "Epoch 131/200\n",
            "62/62 [==============================] - 0s 2ms/step - loss: 0.5688 - accuracy: 0.6889 - val_loss: 0.6131 - val_accuracy: 0.7143\n",
            "Epoch 132/200\n",
            "62/62 [==============================] - 0s 2ms/step - loss: 0.5667 - accuracy: 0.6857 - val_loss: 0.6243 - val_accuracy: 0.6818\n",
            "Epoch 133/200\n",
            "62/62 [==============================] - 0s 2ms/step - loss: 0.5647 - accuracy: 0.6857 - val_loss: 0.6293 - val_accuracy: 0.6753\n",
            "Epoch 134/200\n",
            "62/62 [==============================] - 0s 3ms/step - loss: 0.5649 - accuracy: 0.6889 - val_loss: 0.6158 - val_accuracy: 0.6883\n",
            "Epoch 135/200\n",
            "62/62 [==============================] - 0s 2ms/step - loss: 0.5669 - accuracy: 0.6873 - val_loss: 0.6264 - val_accuracy: 0.6883\n",
            "Epoch 136/200\n",
            "62/62 [==============================] - 0s 2ms/step - loss: 0.5674 - accuracy: 0.6808 - val_loss: 0.6194 - val_accuracy: 0.7013\n",
            "Epoch 137/200\n",
            "62/62 [==============================] - 0s 2ms/step - loss: 0.5634 - accuracy: 0.6824 - val_loss: 0.6482 - val_accuracy: 0.6753\n",
            "Epoch 138/200\n",
            "62/62 [==============================] - 0s 2ms/step - loss: 0.5714 - accuracy: 0.6857 - val_loss: 0.6127 - val_accuracy: 0.7143\n",
            "Epoch 139/200\n",
            "62/62 [==============================] - 0s 2ms/step - loss: 0.5698 - accuracy: 0.6824 - val_loss: 0.6296 - val_accuracy: 0.6688\n",
            "Epoch 140/200\n",
            "62/62 [==============================] - 0s 3ms/step - loss: 0.5644 - accuracy: 0.6857 - val_loss: 0.6319 - val_accuracy: 0.6753\n",
            "Epoch 141/200\n",
            "62/62 [==============================] - 0s 2ms/step - loss: 0.5621 - accuracy: 0.6840 - val_loss: 0.6431 - val_accuracy: 0.6688\n",
            "Epoch 142/200\n",
            "62/62 [==============================] - 0s 2ms/step - loss: 0.5680 - accuracy: 0.6840 - val_loss: 0.6182 - val_accuracy: 0.6883\n",
            "Epoch 143/200\n",
            "62/62 [==============================] - 0s 2ms/step - loss: 0.5646 - accuracy: 0.6857 - val_loss: 0.6406 - val_accuracy: 0.6818\n",
            "Epoch 144/200\n",
            "62/62 [==============================] - 0s 2ms/step - loss: 0.5681 - accuracy: 0.6792 - val_loss: 0.6156 - val_accuracy: 0.7013\n",
            "Epoch 145/200\n",
            "62/62 [==============================] - 0s 2ms/step - loss: 0.5745 - accuracy: 0.6889 - val_loss: 0.6209 - val_accuracy: 0.7078\n",
            "Epoch 146/200\n",
            "62/62 [==============================] - 0s 3ms/step - loss: 0.5659 - accuracy: 0.6808 - val_loss: 0.6195 - val_accuracy: 0.7013\n",
            "Epoch 147/200\n",
            "62/62 [==============================] - 0s 2ms/step - loss: 0.5724 - accuracy: 0.6792 - val_loss: 0.6349 - val_accuracy: 0.6883\n",
            "Epoch 148/200\n",
            "62/62 [==============================] - 0s 2ms/step - loss: 0.5604 - accuracy: 0.6954 - val_loss: 0.6484 - val_accuracy: 0.6883\n",
            "Epoch 149/200\n",
            "62/62 [==============================] - 0s 2ms/step - loss: 0.5720 - accuracy: 0.6857 - val_loss: 0.6152 - val_accuracy: 0.7078\n",
            "Epoch 150/200\n",
            "62/62 [==============================] - 0s 2ms/step - loss: 0.5656 - accuracy: 0.6792 - val_loss: 0.6171 - val_accuracy: 0.6883\n",
            "Epoch 151/200\n",
            "62/62 [==============================] - 0s 3ms/step - loss: 0.5633 - accuracy: 0.6857 - val_loss: 0.6245 - val_accuracy: 0.6818\n",
            "Epoch 152/200\n",
            "62/62 [==============================] - 0s 2ms/step - loss: 0.5705 - accuracy: 0.6840 - val_loss: 0.6212 - val_accuracy: 0.6818\n",
            "Epoch 153/200\n",
            "62/62 [==============================] - 0s 2ms/step - loss: 0.5604 - accuracy: 0.6857 - val_loss: 0.6170 - val_accuracy: 0.6818\n",
            "Epoch 154/200\n",
            "62/62 [==============================] - 0s 2ms/step - loss: 0.5673 - accuracy: 0.6792 - val_loss: 0.6287 - val_accuracy: 0.6818\n",
            "Epoch 155/200\n",
            "62/62 [==============================] - 0s 2ms/step - loss: 0.5639 - accuracy: 0.6840 - val_loss: 0.6280 - val_accuracy: 0.6753\n",
            "Epoch 156/200\n",
            "62/62 [==============================] - 0s 2ms/step - loss: 0.5654 - accuracy: 0.6824 - val_loss: 0.6200 - val_accuracy: 0.6883\n",
            "Epoch 157/200\n",
            "62/62 [==============================] - 0s 2ms/step - loss: 0.5638 - accuracy: 0.6824 - val_loss: 0.6219 - val_accuracy: 0.7013\n",
            "Epoch 158/200\n",
            "62/62 [==============================] - 0s 2ms/step - loss: 0.5652 - accuracy: 0.6873 - val_loss: 0.6118 - val_accuracy: 0.6818\n",
            "Epoch 159/200\n",
            "62/62 [==============================] - 0s 2ms/step - loss: 0.5638 - accuracy: 0.6857 - val_loss: 0.6115 - val_accuracy: 0.7078\n",
            "Epoch 160/200\n",
            "62/62 [==============================] - 0s 2ms/step - loss: 0.5613 - accuracy: 0.6824 - val_loss: 0.6374 - val_accuracy: 0.6883\n",
            "Epoch 161/200\n",
            "62/62 [==============================] - 0s 3ms/step - loss: 0.5612 - accuracy: 0.6857 - val_loss: 0.6239 - val_accuracy: 0.6753\n",
            "Epoch 162/200\n",
            "62/62 [==============================] - 0s 2ms/step - loss: 0.5571 - accuracy: 0.6938 - val_loss: 0.6172 - val_accuracy: 0.6818\n",
            "Epoch 163/200\n",
            "62/62 [==============================] - 0s 2ms/step - loss: 0.5656 - accuracy: 0.6824 - val_loss: 0.6282 - val_accuracy: 0.6948\n",
            "Epoch 164/200\n",
            "62/62 [==============================] - 0s 2ms/step - loss: 0.5662 - accuracy: 0.6873 - val_loss: 0.6256 - val_accuracy: 0.7013\n",
            "Epoch 165/200\n",
            "62/62 [==============================] - 0s 2ms/step - loss: 0.5598 - accuracy: 0.6889 - val_loss: 0.6160 - val_accuracy: 0.6753\n",
            "Epoch 166/200\n",
            "62/62 [==============================] - 0s 3ms/step - loss: 0.5605 - accuracy: 0.6922 - val_loss: 0.6336 - val_accuracy: 0.7078\n",
            "Epoch 167/200\n",
            "62/62 [==============================] - 0s 2ms/step - loss: 0.5641 - accuracy: 0.6824 - val_loss: 0.6255 - val_accuracy: 0.7013\n",
            "Epoch 168/200\n",
            "62/62 [==============================] - 0s 2ms/step - loss: 0.5590 - accuracy: 0.6857 - val_loss: 0.6285 - val_accuracy: 0.7013\n",
            "Epoch 169/200\n",
            "62/62 [==============================] - 0s 3ms/step - loss: 0.5604 - accuracy: 0.6906 - val_loss: 0.6329 - val_accuracy: 0.6948\n",
            "Epoch 170/200\n",
            "62/62 [==============================] - 0s 2ms/step - loss: 0.5622 - accuracy: 0.6906 - val_loss: 0.6253 - val_accuracy: 0.6948\n",
            "Epoch 171/200\n",
            "62/62 [==============================] - 0s 2ms/step - loss: 0.5577 - accuracy: 0.6922 - val_loss: 0.6221 - val_accuracy: 0.7013\n",
            "Epoch 172/200\n",
            "62/62 [==============================] - 0s 2ms/step - loss: 0.5544 - accuracy: 0.6938 - val_loss: 0.6094 - val_accuracy: 0.7143\n",
            "Epoch 173/200\n",
            "62/62 [==============================] - 0s 3ms/step - loss: 0.5547 - accuracy: 0.6954 - val_loss: 0.6141 - val_accuracy: 0.7078\n",
            "Epoch 174/200\n",
            "62/62 [==============================] - 0s 2ms/step - loss: 0.5582 - accuracy: 0.6873 - val_loss: 0.5993 - val_accuracy: 0.7078\n",
            "Epoch 175/200\n",
            "62/62 [==============================] - 0s 2ms/step - loss: 0.5467 - accuracy: 0.6987 - val_loss: 0.6182 - val_accuracy: 0.6948\n",
            "Epoch 176/200\n",
            "62/62 [==============================] - 0s 2ms/step - loss: 0.5511 - accuracy: 0.7036 - val_loss: 0.6213 - val_accuracy: 0.7013\n",
            "Epoch 177/200\n",
            "62/62 [==============================] - 0s 2ms/step - loss: 0.5485 - accuracy: 0.7085 - val_loss: 0.6056 - val_accuracy: 0.7078\n",
            "Epoch 178/200\n",
            "62/62 [==============================] - 0s 2ms/step - loss: 0.5489 - accuracy: 0.7101 - val_loss: 0.6027 - val_accuracy: 0.7143\n",
            "Epoch 179/200\n",
            "62/62 [==============================] - 0s 2ms/step - loss: 0.5454 - accuracy: 0.7150 - val_loss: 0.6208 - val_accuracy: 0.7013\n",
            "Epoch 180/200\n",
            "62/62 [==============================] - 0s 2ms/step - loss: 0.5489 - accuracy: 0.7150 - val_loss: 0.6045 - val_accuracy: 0.7013\n",
            "Epoch 181/200\n",
            "62/62 [==============================] - 0s 2ms/step - loss: 0.5470 - accuracy: 0.7134 - val_loss: 0.5955 - val_accuracy: 0.7273\n",
            "Epoch 182/200\n",
            "62/62 [==============================] - 0s 2ms/step - loss: 0.5525 - accuracy: 0.6906 - val_loss: 0.6103 - val_accuracy: 0.7143\n",
            "Epoch 183/200\n",
            "62/62 [==============================] - 0s 2ms/step - loss: 0.5443 - accuracy: 0.7182 - val_loss: 0.6036 - val_accuracy: 0.7078\n",
            "Epoch 184/200\n",
            "62/62 [==============================] - 0s 2ms/step - loss: 0.5436 - accuracy: 0.7068 - val_loss: 0.6121 - val_accuracy: 0.7143\n",
            "Epoch 185/200\n",
            "62/62 [==============================] - 0s 2ms/step - loss: 0.5438 - accuracy: 0.7199 - val_loss: 0.6043 - val_accuracy: 0.6948\n",
            "Epoch 186/200\n",
            "62/62 [==============================] - 0s 3ms/step - loss: 0.5411 - accuracy: 0.7248 - val_loss: 0.6263 - val_accuracy: 0.6948\n",
            "Epoch 187/200\n",
            "62/62 [==============================] - 0s 3ms/step - loss: 0.5451 - accuracy: 0.7150 - val_loss: 0.6184 - val_accuracy: 0.7078\n",
            "Epoch 188/200\n",
            "62/62 [==============================] - 0s 2ms/step - loss: 0.5377 - accuracy: 0.7248 - val_loss: 0.6142 - val_accuracy: 0.7078\n",
            "Epoch 189/200\n",
            "62/62 [==============================] - 0s 2ms/step - loss: 0.5416 - accuracy: 0.7182 - val_loss: 0.6063 - val_accuracy: 0.7078\n",
            "Epoch 190/200\n",
            "62/62 [==============================] - 0s 2ms/step - loss: 0.5376 - accuracy: 0.7296 - val_loss: 0.5969 - val_accuracy: 0.7078\n",
            "Epoch 191/200\n",
            "62/62 [==============================] - 0s 2ms/step - loss: 0.5402 - accuracy: 0.7150 - val_loss: 0.6233 - val_accuracy: 0.7078\n",
            "Epoch 192/200\n",
            "62/62 [==============================] - 0s 2ms/step - loss: 0.5438 - accuracy: 0.7134 - val_loss: 0.5965 - val_accuracy: 0.7078\n",
            "Epoch 193/200\n",
            "62/62 [==============================] - 0s 3ms/step - loss: 0.5344 - accuracy: 0.7215 - val_loss: 0.6193 - val_accuracy: 0.7273\n",
            "Epoch 194/200\n",
            "62/62 [==============================] - 0s 2ms/step - loss: 0.5386 - accuracy: 0.7296 - val_loss: 0.6268 - val_accuracy: 0.7078\n",
            "Epoch 195/200\n",
            "62/62 [==============================] - 0s 2ms/step - loss: 0.5346 - accuracy: 0.7248 - val_loss: 0.6293 - val_accuracy: 0.7143\n",
            "Epoch 196/200\n",
            "62/62 [==============================] - 0s 2ms/step - loss: 0.5363 - accuracy: 0.7280 - val_loss: 0.6107 - val_accuracy: 0.7078\n",
            "Epoch 197/200\n",
            "62/62 [==============================] - 0s 2ms/step - loss: 0.5317 - accuracy: 0.7231 - val_loss: 0.6169 - val_accuracy: 0.7143\n",
            "Epoch 198/200\n",
            "62/62 [==============================] - 0s 2ms/step - loss: 0.5315 - accuracy: 0.7231 - val_loss: 0.6243 - val_accuracy: 0.7078\n",
            "Epoch 199/200\n",
            "62/62 [==============================] - 0s 3ms/step - loss: 0.5342 - accuracy: 0.7248 - val_loss: 0.6183 - val_accuracy: 0.7143\n",
            "Epoch 200/200\n",
            "62/62 [==============================] - 0s 2ms/step - loss: 0.5294 - accuracy: 0.7427 - val_loss: 0.6145 - val_accuracy: 0.7078\n"
          ]
        },
        {
          "output_type": "execute_result",
          "data": {
            "text/plain": [
              "<keras.callbacks.History at 0x7ff5059510a0>"
            ]
          },
          "metadata": {},
          "execution_count": 16
        }
      ]
    },
    {
      "cell_type": "code",
      "source": [
        "scores = model.evaluate(X_train, y_train)\n",
        "print(\"Training Accuracy: %.2f%%\\n\" % (scores[1]*100))\n",
        "scores = model.evaluate(X_test, y_test)\n",
        "print(\"Testing Accuracy: %.2f%%\\n\" % (scores[1]*100))"
      ],
      "metadata": {
        "colab": {
          "base_uri": "https://localhost:8080/"
        },
        "id": "l8ifQOIKSncL",
        "outputId": "60023865-8821-4dbf-d81f-afdbb3270783"
      },
      "execution_count": null,
      "outputs": [
        {
          "output_type": "stream",
          "name": "stdout",
          "text": [
            "20/20 [==============================] - 0s 2ms/step - loss: 0.5214 - accuracy: 0.7329\n",
            "Training Accuracy: 73.29%\n",
            "\n",
            "5/5 [==============================] - 0s 2ms/step - loss: 0.6145 - accuracy: 0.7078\n",
            "Testing Accuracy: 70.78%\n",
            "\n"
          ]
        }
      ]
    },
    {
      "cell_type": "code",
      "source": [
        "y_test_pred = model.predict(X_test)"
      ],
      "metadata": {
        "colab": {
          "base_uri": "https://localhost:8080/"
        },
        "id": "sydsYphOSrHw",
        "outputId": "82ceb07c-192b-444a-ef15-cfc464218d84"
      },
      "execution_count": null,
      "outputs": [
        {
          "output_type": "stream",
          "name": "stdout",
          "text": [
            "5/5 [==============================] - 0s 3ms/step\n"
          ]
        }
      ]
    },
    {
      "cell_type": "code",
      "source": [
        "print(model.summary())"
      ],
      "metadata": {
        "colab": {
          "base_uri": "https://localhost:8080/"
        },
        "id": "a-vksPTySvP-",
        "outputId": "57e94e2c-a296-4562-9fb4-5b4495b3efd2"
      },
      "execution_count": null,
      "outputs": [
        {
          "output_type": "stream",
          "name": "stdout",
          "text": [
            "Model: \"sequential\"\n",
            "_________________________________________________________________\n",
            " Layer (type)                Output Shape              Param #   \n",
            "=================================================================\n",
            " dense (Dense)               (None, 12)                108       \n",
            "                                                                 \n",
            " dense_1 (Dense)             (None, 8)                 104       \n",
            "                                                                 \n",
            " dense_2 (Dense)             (None, 1)                 9         \n",
            "                                                                 \n",
            "=================================================================\n",
            "Total params: 221\n",
            "Trainable params: 221\n",
            "Non-trainable params: 0\n",
            "_________________________________________________________________\n",
            "None\n"
          ]
        }
      ]
    },
    {
      "cell_type": "code",
      "source": [
        "sanaz = np.array([[0, 200, 200, 1, 300, 35, 0.2, 19]])\n",
        "out1 = model.predict(sanaz)"
      ],
      "metadata": {
        "colab": {
          "base_uri": "https://localhost:8080/"
        },
        "id": "-JD6ROwrS5uK",
        "outputId": "1a198869-0ac7-43ef-b755-3a85280972a1"
      },
      "execution_count": null,
      "outputs": [
        {
          "output_type": "stream",
          "name": "stdout",
          "text": [
            "1/1 [==============================] - 0s 103ms/step\n"
          ]
        }
      ]
    },
    {
      "cell_type": "code",
      "source": [
        "print(out1)"
      ],
      "metadata": {
        "id": "iVXf2JXSS-ND",
        "outputId": "2cad8ead-4efb-4935-a69e-b313caae2262",
        "colab": {
          "base_uri": "https://localhost:8080/"
        }
      },
      "execution_count": null,
      "outputs": [
        {
          "output_type": "stream",
          "name": "stdout",
          "text": [
            "[[0.00032248]]\n"
          ]
        }
      ]
    }
  ]
}